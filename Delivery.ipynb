{
 "cells": [
  {
   "cell_type": "markdown",
   "id": "d61d4077",
   "metadata": {},
   "source": [
    "#### Descobrindo o tempo estimado de uma entrega de um delivery cujo entregador está a uma velocidade constante de 50km/h e a distância em km informada pelo usuário:"
   ]
  },
  {
   "cell_type": "code",
   "execution_count": 2,
   "id": "193451ed",
   "metadata": {},
   "outputs": [
    {
     "name": "stdout",
     "output_type": "stream",
     "text": [
      "\n",
      "Por favor, digite a distância em km:\n",
      "10\n",
      "\n",
      "O tempo estimado de entrega é de 12.0 minutos!\n"
     ]
    }
   ],
   "source": [
    "#velocidade constante de 50km/h (ELE QUER EM MINUTOS!!!)\n",
    "velocidade = 50\n",
    "\n",
    "# código para receber como input do usuário a distância em km\n",
    "distancia = float(input(\"\\nPor favor, digite a distância em km:\\n\"))\n",
    "\n",
    "# código que implementa a lógica do cálculo do tempo, em minutos se baseia em tempo = distancia/velocidade, porem essa resposta sai em km/h\n",
    "#a resposta de tempo está em horas, portanto facamos * 60\n",
    "tempo = (distancia/velocidade) * 60\n",
    "\n",
    "\n",
    "print(f\"\\nO tempo estimado de entrega é de {tempo} minutos!\")"
   ]
  }
 ],
 "metadata": {
  "kernelspec": {
   "display_name": "Python 3 (ipykernel)",
   "language": "python",
   "name": "python3"
  },
  "language_info": {
   "codemirror_mode": {
    "name": "ipython",
    "version": 3
   },
   "file_extension": ".py",
   "mimetype": "text/x-python",
   "name": "python",
   "nbconvert_exporter": "python",
   "pygments_lexer": "ipython3",
   "version": "3.9.13"
  }
 },
 "nbformat": 4,
 "nbformat_minor": 5
}
